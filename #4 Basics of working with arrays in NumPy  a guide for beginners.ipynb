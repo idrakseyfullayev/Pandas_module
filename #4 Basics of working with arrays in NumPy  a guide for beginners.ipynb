{
 "cells": [
  {
   "cell_type": "code",
   "execution_count": 72,
   "id": "7544b8a2",
   "metadata": {},
   "outputs": [],
   "source": [
    "import numpy as np"
   ]
  },
  {
   "cell_type": "code",
   "execution_count": 73,
   "id": "93a4fed0",
   "metadata": {},
   "outputs": [],
   "source": [
    "my_list = [1,2,3,4, 'xxx']\n",
    "\n",
    "a = np.array(my_list)"
   ]
  },
  {
   "cell_type": "code",
   "execution_count": 74,
   "id": "ee2a8439",
   "metadata": {},
   "outputs": [
    {
     "data": {
      "text/plain": [
       "array(['1', '2', '3', '4', 'xxx'], dtype='<U11')"
      ]
     },
     "execution_count": 74,
     "metadata": {},
     "output_type": "execute_result"
    }
   ],
   "source": [
    "a"
   ]
  },
  {
   "cell_type": "code",
   "execution_count": 75,
   "id": "6544301c",
   "metadata": {},
   "outputs": [],
   "source": [
    "b = np.array(my_list)"
   ]
  },
  {
   "cell_type": "code",
   "execution_count": 76,
   "id": "35f0f854",
   "metadata": {},
   "outputs": [
    {
     "data": {
      "text/plain": [
       "(408160057264, 408152922832)"
      ]
     },
     "execution_count": 76,
     "metadata": {},
     "output_type": "execute_result"
    }
   ],
   "source": [
    "id(a), id(b)"
   ]
  },
  {
   "cell_type": "code",
   "execution_count": 77,
   "id": "2c07bee1",
   "metadata": {},
   "outputs": [],
   "source": [
    "b = a"
   ]
  },
  {
   "cell_type": "code",
   "execution_count": 78,
   "id": "9d16e1a2",
   "metadata": {},
   "outputs": [
    {
     "data": {
      "text/plain": [
       "(408160057264, 408160057264)"
      ]
     },
     "execution_count": 78,
     "metadata": {},
     "output_type": "execute_result"
    }
   ],
   "source": [
    "id(a), id(b)"
   ]
  },
  {
   "cell_type": "code",
   "execution_count": 79,
   "id": "cb9d00d1",
   "metadata": {},
   "outputs": [
    {
     "data": {
      "text/plain": [
       "(408160057744, 408160057264)"
      ]
     },
     "execution_count": 79,
     "metadata": {},
     "output_type": "execute_result"
    }
   ],
   "source": [
    "a = np.array(my_list)\n",
    "\n",
    "id(a), id(b)"
   ]
  },
  {
   "cell_type": "code",
   "execution_count": 87,
   "id": "254c5bea",
   "metadata": {},
   "outputs": [
    {
     "ename": "TypeError",
     "evalue": "array() takes from 1 to 2 positional arguments but 3 were given",
     "output_type": "error",
     "traceback": [
      "\u001b[1;31m---------------------------------------------------------------------------\u001b[0m",
      "\u001b[1;31mTypeError\u001b[0m                                 Traceback (most recent call last)",
      "Cell \u001b[1;32mIn[87], line 1\u001b[0m\n\u001b[1;32m----> 1\u001b[0m a \u001b[38;5;241m=\u001b[39m np\u001b[38;5;241m.\u001b[39marray(\u001b[38;5;241m1\u001b[39m,\u001b[38;5;241m2\u001b[39m,\u001b[38;5;241m3\u001b[39m)\n",
      "\u001b[1;31mTypeError\u001b[0m: array() takes from 1 to 2 positional arguments but 3 were given"
     ]
    }
   ],
   "source": [
    "a = np.array(1,2,3)"
   ]
  },
  {
   "cell_type": "code",
   "execution_count": 89,
   "id": "ab18ba41",
   "metadata": {},
   "outputs": [],
   "source": [
    "a = np.array(123)"
   ]
  },
  {
   "cell_type": "code",
   "execution_count": 90,
   "id": "abd1bc8d",
   "metadata": {},
   "outputs": [
    {
     "data": {
      "text/plain": [
       "array(123)"
      ]
     },
     "execution_count": 90,
     "metadata": {},
     "output_type": "execute_result"
    }
   ],
   "source": [
    "a"
   ]
  },
  {
   "cell_type": "code",
   "execution_count": 91,
   "id": "f4cbd72d",
   "metadata": {},
   "outputs": [],
   "source": [
    "a = np.array('xxx')"
   ]
  },
  {
   "cell_type": "code",
   "execution_count": 92,
   "id": "3e3351b6",
   "metadata": {},
   "outputs": [
    {
     "data": {
      "text/plain": [
       "array('xxx', dtype='<U3')"
      ]
     },
     "execution_count": 92,
     "metadata": {},
     "output_type": "execute_result"
    }
   ],
   "source": [
    "a"
   ]
  },
  {
   "cell_type": "code",
   "execution_count": 94,
   "id": "18dda43d",
   "metadata": {},
   "outputs": [
    {
     "data": {
      "text/plain": [
       "array([1])"
      ]
     },
     "execution_count": 94,
     "metadata": {},
     "output_type": "execute_result"
    }
   ],
   "source": [
    "my_list = [1]\n",
    "\n",
    "np.array(my_list)"
   ]
  },
  {
   "cell_type": "code",
   "execution_count": 95,
   "id": "925a5c62",
   "metadata": {},
   "outputs": [
    {
     "data": {
      "text/plain": [
       "array([1., 2., 3., 4.])"
      ]
     },
     "execution_count": 95,
     "metadata": {},
     "output_type": "execute_result"
    }
   ],
   "source": [
    "my_list = [1,2,3,4]\n",
    "\n",
    "np.array(my_list, 'float')"
   ]
  },
  {
   "cell_type": "code",
   "execution_count": 103,
   "id": "ea0438f7",
   "metadata": {},
   "outputs": [],
   "source": [
    "my_list = [1,2,3,4]\n",
    "\n",
    "a = np.array(my_list, 'float')"
   ]
  },
  {
   "cell_type": "code",
   "execution_count": 104,
   "id": "7719ba06",
   "metadata": {},
   "outputs": [
    {
     "data": {
      "text/plain": [
       "array([1., 2., 3.])"
      ]
     },
     "execution_count": 104,
     "metadata": {},
     "output_type": "execute_result"
    }
   ],
   "source": [
    "a[:3]"
   ]
  },
  {
   "cell_type": "code",
   "execution_count": 105,
   "id": "5ebbf0eb",
   "metadata": {},
   "outputs": [
    {
     "data": {
      "text/plain": [
       "array([2., 3.])"
      ]
     },
     "execution_count": 105,
     "metadata": {},
     "output_type": "execute_result"
    }
   ],
   "source": [
    "a[1:3]"
   ]
  },
  {
   "cell_type": "code",
   "execution_count": 116,
   "id": "1b026db6",
   "metadata": {},
   "outputs": [
    {
     "data": {
      "text/plain": [
       "(408160612400, 408085139440)"
      ]
     },
     "execution_count": 116,
     "metadata": {},
     "output_type": "execute_result"
    }
   ],
   "source": [
    "my_list = [1,2,3,4, 'xxx']\n",
    "\n",
    "a = np.asarray(my_list)\n",
    "b = np.asarray(my_list)\n",
    "\n",
    "id(a), id(b)"
   ]
  },
  {
   "cell_type": "code",
   "execution_count": 127,
   "id": "fcc91a5d",
   "metadata": {},
   "outputs": [
    {
     "data": {
      "text/plain": [
       "(array(['1', '2', '3', '4', 'xxx'], dtype='<U11'),\n",
       " array(['1', '2', '3', '4', 'xxx'], dtype='<U11'))"
      ]
     },
     "execution_count": 127,
     "metadata": {},
     "output_type": "execute_result"
    }
   ],
   "source": [
    "my_list = [1,2,3,4, 'xxx']\n",
    "\n",
    "a = np.asarray(my_list)\n",
    "b = np.asarray(my_list)\n",
    "\n",
    "my_list[0] = 'aaa'\n",
    "\n",
    "a, b"
   ]
  },
  {
   "cell_type": "code",
   "execution_count": 128,
   "id": "d4b6a718",
   "metadata": {},
   "outputs": [
    {
     "data": {
      "text/plain": [
       "(array(['1', '2', '3', '4', 'xxx'], dtype='<U11'),\n",
       " array(['1', '2', '3', '4', 'xxx'], dtype='<U11'))"
      ]
     },
     "execution_count": 128,
     "metadata": {},
     "output_type": "execute_result"
    }
   ],
   "source": [
    "my_list = [1,2,3,4, 'xxx']\n",
    "\n",
    "a = np.array(my_list)\n",
    "b = np.array(my_list)\n",
    "\n",
    "my_list[0] = 'aaa'\n",
    "\n",
    "a, b"
   ]
  },
  {
   "cell_type": "code",
   "execution_count": 129,
   "id": "3c033280",
   "metadata": {},
   "outputs": [
    {
     "data": {
      "text/plain": [
       "(array(['aaa', '2', '3', '4', 'xxx'], dtype='<U11'),\n",
       " array(['1', '2', '3', '4', 'xxx'], dtype='<U11'))"
      ]
     },
     "execution_count": 129,
     "metadata": {},
     "output_type": "execute_result"
    }
   ],
   "source": [
    "my_list = [1,2,3,4, 'xxx']\n",
    "\n",
    "a = np.array(my_list)\n",
    "b = np.array(a)\n",
    "\n",
    "a[0] = 'aaa'\n",
    "\n",
    "a, b"
   ]
  },
  {
   "cell_type": "code",
   "execution_count": 130,
   "id": "8c7e827f",
   "metadata": {},
   "outputs": [
    {
     "data": {
      "text/plain": [
       "(array(['aaa', '2', '3', '4', 'xxx'], dtype='<U11'),\n",
       " array(['aaa', '2', '3', '4', 'xxx'], dtype='<U11'))"
      ]
     },
     "execution_count": 130,
     "metadata": {},
     "output_type": "execute_result"
    }
   ],
   "source": [
    "my_list = [1,2,3,4, 'xxx']\n",
    "\n",
    "a = np.asarray(my_list)\n",
    "b = np.asarray(a)\n",
    "\n",
    "a[0] = 'aaa'\n",
    "\n",
    "a, b"
   ]
  },
  {
   "cell_type": "code",
   "execution_count": 131,
   "id": "1c3c4409",
   "metadata": {},
   "outputs": [
    {
     "data": {
      "text/plain": [
       "(array(['aaa', '2', '3', '4', 'xxx'], dtype='<U11'),\n",
       " array(['aaa', '2', '3', '4', 'xxx'], dtype='<U11'))"
      ]
     },
     "execution_count": 131,
     "metadata": {},
     "output_type": "execute_result"
    }
   ],
   "source": [
    "my_list = [1,2,3,4, 'xxx']\n",
    "\n",
    "a = np.asarray(my_list)\n",
    "b = a\n",
    "\n",
    "a[0] = 'aaa'\n",
    "\n",
    "a, b"
   ]
  },
  {
   "cell_type": "code",
   "execution_count": 132,
   "id": "ec6ad6b5",
   "metadata": {},
   "outputs": [
    {
     "data": {
      "text/plain": [
       "(5,)"
      ]
     },
     "execution_count": 132,
     "metadata": {},
     "output_type": "execute_result"
    }
   ],
   "source": [
    "a.shape"
   ]
  },
  {
   "cell_type": "code",
   "execution_count": null,
   "id": "a1457d8a",
   "metadata": {},
   "outputs": [],
   "source": []
  }
 ],
 "metadata": {
  "kernelspec": {
   "display_name": "Python 3 (ipykernel)",
   "language": "python",
   "name": "python3"
  },
  "language_info": {
   "codemirror_mode": {
    "name": "ipython",
    "version": 3
   },
   "file_extension": ".py",
   "mimetype": "text/x-python",
   "name": "python",
   "nbconvert_exporter": "python",
   "pygments_lexer": "ipython3",
   "version": "3.11.5"
  }
 },
 "nbformat": 4,
 "nbformat_minor": 5
}
