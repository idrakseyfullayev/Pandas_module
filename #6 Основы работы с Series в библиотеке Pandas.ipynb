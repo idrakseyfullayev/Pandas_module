{
 "cells": [
  {
   "cell_type": "code",
   "execution_count": 21,
   "id": "c1b80aa0",
   "metadata": {},
   "outputs": [
    {
     "data": {
      "text/plain": [
       "0    1\n",
       "1    2\n",
       "2    3\n",
       "3    4\n",
       "4    5\n",
       "dtype: int64"
      ]
     },
     "execution_count": 21,
     "metadata": {},
     "output_type": "execute_result"
    }
   ],
   "source": [
    "import pandas as pd\n",
    "\n",
    "numbers = [1, 2, 3, 4, 5]\n",
    "\n",
    "series = pd.Series(numbers)\n",
    "series"
   ]
  },
  {
   "cell_type": "code",
   "execution_count": 22,
   "id": "e70efe12",
   "metadata": {},
   "outputs": [
    {
     "data": {
      "text/plain": [
       "0      1\n",
       "1      2\n",
       "2      3\n",
       "3      4\n",
       "4      5\n",
       "5    234\n",
       "dtype: object"
      ]
     },
     "execution_count": 22,
     "metadata": {},
     "output_type": "execute_result"
    }
   ],
   "source": [
    "import pandas as pd\n",
    "\n",
    "numbers = [1, 2, 3, 4, 5, '234']\n",
    "\n",
    "series = pd.Series(numbers)\n",
    "series"
   ]
  },
  {
   "cell_type": "code",
   "execution_count": 23,
   "id": "c65a22b8",
   "metadata": {},
   "outputs": [
    {
     "data": {
      "text/plain": [
       "0    Hello\n",
       "dtype: object"
      ]
     },
     "execution_count": 23,
     "metadata": {},
     "output_type": "execute_result"
    }
   ],
   "source": [
    "import pandas as pd\n",
    "\n",
    "numbers = [\"Hello\"]\n",
    "\n",
    "series = pd.Series(numbers)\n",
    "series"
   ]
  },
  {
   "cell_type": "code",
   "execution_count": 24,
   "id": "115453c2",
   "metadata": {},
   "outputs": [
    {
     "data": {
      "text/plain": [
       "0    Hello\n",
       "1        2\n",
       "2      3.1\n",
       "dtype: object"
      ]
     },
     "execution_count": 24,
     "metadata": {},
     "output_type": "execute_result"
    }
   ],
   "source": [
    "import pandas as pd\n",
    "\n",
    "numbers = [\"Hello\", 2, 3.1 ]\n",
    "\n",
    "series = pd.Series(numbers)\n",
    "series"
   ]
  },
  {
   "cell_type": "code",
   "execution_count": 30,
   "id": "bf6bbda7",
   "metadata": {},
   "outputs": [
    {
     "data": {
      "text/plain": [
       "'Hello'"
      ]
     },
     "execution_count": 30,
     "metadata": {},
     "output_type": "execute_result"
    }
   ],
   "source": [
    "import pandas as pd\n",
    "\n",
    "numbers = [\"Hello\", 2, 3.1 ]\n",
    "\n",
    "series = pd.Series(numbers)\n",
    "series[0]"
   ]
  },
  {
   "cell_type": "code",
   "execution_count": 43,
   "id": "36ee6a5c",
   "metadata": {},
   "outputs": [
    {
     "data": {
      "text/plain": [
       "John     25\n",
       "Jane     30\n",
       "Alice    27\n",
       "dtype: int64"
      ]
     },
     "execution_count": 43,
     "metadata": {},
     "output_type": "execute_result"
    }
   ],
   "source": [
    "import pandas as pd\n",
    "names = ['John', 'Jane', \"Alice\"]\n",
    "ages = [25, 30, 27]\n",
    "\n",
    "series_with_name = pd.Series(data = ages, index=names)\n",
    "series_with_name"
   ]
  },
  {
   "cell_type": "code",
   "execution_count": 44,
   "id": "23e66940",
   "metadata": {},
   "outputs": [
    {
     "data": {
      "text/plain": [
       "'Jane age: 30'"
      ]
     },
     "execution_count": 44,
     "metadata": {},
     "output_type": "execute_result"
    }
   ],
   "source": [
    "import pandas as pd\n",
    "names = ['John', 'Jane', \"Alice\"]\n",
    "ages = [25, 30, 27]\n",
    "\n",
    "series_with_name = pd.Series(data = ages, index=names)\n",
    "\n",
    "f\"Jane age: {series_with_name['Jane']}\""
   ]
  },
  {
   "cell_type": "code",
   "execution_count": 45,
   "id": "65b72c2f",
   "metadata": {},
   "outputs": [
    {
     "name": "stdout",
     "output_type": "stream",
     "text": [
      "Jane age: 30\n"
     ]
    }
   ],
   "source": [
    "import pandas as pd\n",
    "nnames = ['John', 'Jane', \"Alice\"]\n",
    "ages = [25, 30, 27]\n",
    "\n",
    "series_with_name = pd.Series(data = ages, index=names)\n",
    "\n",
    "print(f\"Jane age: {series_with_name['Jane']}\")"
   ]
  },
  {
   "cell_type": "code",
   "execution_count": 46,
   "id": "fd404971",
   "metadata": {},
   "outputs": [
    {
     "data": {
      "text/plain": [
       "'Jane age: 30'"
      ]
     },
     "execution_count": 46,
     "metadata": {},
     "output_type": "execute_result"
    }
   ],
   "source": [
    "import pandas as pd\n",
    "nnames = ['John', 'Jane', \"Alice\"]\n",
    "ages = [25, 30, 27]\n",
    "\n",
    "series_with_name = pd.Series(data = ages, index=names)\n",
    "\n",
    "f\"Jane age: {series_with_name[1]}\""
   ]
  },
  {
   "cell_type": "code",
   "execution_count": 65,
   "id": "357b4280",
   "metadata": {},
   "outputs": [
    {
     "data": {
      "text/plain": [
       "John     25\n",
       "Jane     24\n",
       "Alice    27\n",
       "dtype: int64"
      ]
     },
     "execution_count": 65,
     "metadata": {},
     "output_type": "execute_result"
    }
   ],
   "source": [
    "import pandas as pd\n",
    "nnames = ['John', 'Jane', \"Alice\"]\n",
    "ages = [25, 30, 27]\n",
    "\n",
    "series_with_name = pd.Series(data = ages, index=names)\n",
    "\n",
    "series_with_name['Jane'] = 24\n",
    "\n",
    "series_with_name"
   ]
  },
  {
   "cell_type": "code",
   "execution_count": 106,
   "id": "db27ff43",
   "metadata": {},
   "outputs": [
    {
     "data": {
      "text/plain": [
       "Bob    [I like That, That was awful]\n",
       "Sue             [Pretty Good, Tasty]\n",
       "dtype: object"
      ]
     },
     "execution_count": 106,
     "metadata": {},
     "output_type": "execute_result"
    }
   ],
   "source": [
    "data = {\n",
    "    'Bob': ['I like That', \"That was awful\"],\n",
    "    \"Sue\": ['Pretty Good', 'Tasty']\n",
    "}\n",
    "\n",
    "series = pd.Series(data=data, index=['Bob', \"Sue\"])\n",
    "series"
   ]
  },
  {
   "cell_type": "code",
   "execution_count": 107,
   "id": "d50af6fc",
   "metadata": {},
   "outputs": [
    {
     "data": {
      "text/plain": [
       "Bob    [I like That, That was awful]\n",
       "Sue             [Pretty Good, Tasty]\n",
       "dtype: object"
      ]
     },
     "execution_count": 107,
     "metadata": {},
     "output_type": "execute_result"
    }
   ],
   "source": [
    "data = {\n",
    "    'Bob': ['I like That', \"That was awful\"],\n",
    "    \"Sue\": ['Pretty Good', 'Tasty']\n",
    "}\n",
    "\n",
    "series = pd.Series(data=data)\n",
    "series"
   ]
  },
  {
   "cell_type": "code",
   "execution_count": 108,
   "id": "a2ea6874",
   "metadata": {},
   "outputs": [
    {
     "data": {
      "text/plain": [
       "Alice    NaN\n",
       "John     NaN\n",
       "dtype: object"
      ]
     },
     "execution_count": 108,
     "metadata": {},
     "output_type": "execute_result"
    }
   ],
   "source": [
    "data = {\n",
    "    'Bob': ['I like That', \"That was awful\"],\n",
    "    \"Sue\": ['Pretty Good', 'Tasty']\n",
    "}\n",
    "\n",
    "series = pd.Series(data=data, index=['Alice', \"John\"])\n",
    "series"
   ]
  },
  {
   "cell_type": "code",
   "execution_count": 109,
   "id": "2c2cf8d0",
   "metadata": {},
   "outputs": [
    {
     "data": {
      "text/plain": [
       "a    1\n",
       "b    2\n",
       "c    3\n",
       "dtype: int64"
      ]
     },
     "execution_count": 109,
     "metadata": {},
     "output_type": "execute_result"
    }
   ],
   "source": [
    "d = {'a': 1, 'b': 2, 'c': 3}\n",
    "ser = pd.Series(data=d, index=['a', 'b', 'c'])\n",
    "ser"
   ]
  },
  {
   "cell_type": "code",
   "execution_count": 110,
   "id": "1ec1f3a4",
   "metadata": {},
   "outputs": [
    {
     "data": {
      "text/plain": [
       "x   NaN\n",
       "y   NaN\n",
       "z   NaN\n",
       "dtype: float64"
      ]
     },
     "execution_count": 110,
     "metadata": {},
     "output_type": "execute_result"
    }
   ],
   "source": [
    "d = {'a': 1, 'b': 2, 'c': 3}\n",
    "ser = pd.Series(data=d, index=['x', 'y', 'z'])\n",
    "ser"
   ]
  },
  {
   "cell_type": "code",
   "execution_count": 111,
   "id": "28b69adb",
   "metadata": {},
   "outputs": [
    {
     "data": {
      "text/plain": [
       "a    1\n",
       "b    2\n",
       "c    3\n",
       "dtype: int64"
      ]
     },
     "execution_count": 111,
     "metadata": {},
     "output_type": "execute_result"
    }
   ],
   "source": [
    "d = {'a': 1, 'b': 2, 'c': 3}\n",
    "ser = pd.Series(data=d)\n",
    "ser"
   ]
  },
  {
   "cell_type": "code",
   "execution_count": 112,
   "id": "fef5a60b",
   "metadata": {},
   "outputs": [
    {
     "data": {
      "text/html": [
       "<div>\n",
       "<style scoped>\n",
       "    .dataframe tbody tr th:only-of-type {\n",
       "        vertical-align: middle;\n",
       "    }\n",
       "\n",
       "    .dataframe tbody tr th {\n",
       "        vertical-align: top;\n",
       "    }\n",
       "\n",
       "    .dataframe thead th {\n",
       "        text-align: right;\n",
       "    }\n",
       "</style>\n",
       "<table border=\"1\" class=\"dataframe\">\n",
       "  <thead>\n",
       "    <tr style=\"text-align: right;\">\n",
       "      <th></th>\n",
       "      <th>Bob</th>\n",
       "      <th>Sue</th>\n",
       "    </tr>\n",
       "  </thead>\n",
       "  <tbody>\n",
       "    <tr>\n",
       "      <th>0</th>\n",
       "      <td>I like That</td>\n",
       "      <td>Pretty Good</td>\n",
       "    </tr>\n",
       "    <tr>\n",
       "      <th>1</th>\n",
       "      <td>That was awful</td>\n",
       "      <td>Tasty</td>\n",
       "    </tr>\n",
       "  </tbody>\n",
       "</table>\n",
       "</div>"
      ],
      "text/plain": [
       "              Bob          Sue\n",
       "0     I like That  Pretty Good\n",
       "1  That was awful        Tasty"
      ]
     },
     "execution_count": 112,
     "metadata": {},
     "output_type": "execute_result"
    }
   ],
   "source": [
    "data = {\n",
    "    'Bob': ['I like That', \"That was awful\"],\n",
    "    \"Sue\": ['Pretty Good', 'Tasty']\n",
    "}\n",
    "\n",
    "pd.DataFrame(data=data)"
   ]
  },
  {
   "cell_type": "code",
   "execution_count": 114,
   "id": "e2fdd6af",
   "metadata": {},
   "outputs": [
    {
     "data": {
      "text/html": [
       "<div>\n",
       "<style scoped>\n",
       "    .dataframe tbody tr th:only-of-type {\n",
       "        vertical-align: middle;\n",
       "    }\n",
       "\n",
       "    .dataframe tbody tr th {\n",
       "        vertical-align: top;\n",
       "    }\n",
       "\n",
       "    .dataframe thead th {\n",
       "        text-align: right;\n",
       "    }\n",
       "</style>\n",
       "<table border=\"1\" class=\"dataframe\">\n",
       "  <thead>\n",
       "    <tr style=\"text-align: right;\">\n",
       "      <th></th>\n",
       "      <th>Bob</th>\n",
       "      <th>Sue</th>\n",
       "    </tr>\n",
       "  </thead>\n",
       "  <tbody>\n",
       "    <tr>\n",
       "      <th>Product A</th>\n",
       "      <td>I like That</td>\n",
       "      <td>Pretty Good</td>\n",
       "    </tr>\n",
       "    <tr>\n",
       "      <th>Product B</th>\n",
       "      <td>That was awful</td>\n",
       "      <td>Tasty</td>\n",
       "    </tr>\n",
       "  </tbody>\n",
       "</table>\n",
       "</div>"
      ],
      "text/plain": [
       "                      Bob          Sue\n",
       "Product A     I like That  Pretty Good\n",
       "Product B  That was awful        Tasty"
      ]
     },
     "execution_count": 114,
     "metadata": {},
     "output_type": "execute_result"
    }
   ],
   "source": [
    "data = {\n",
    "    'Bob': ['I like That', \"That was awful\"],\n",
    "    \"Sue\": ['Pretty Good', 'Tasty']\n",
    "}\n",
    "\n",
    "pd.DataFrame(data=data, index=('Product A', 'Product B'))"
   ]
  },
  {
   "cell_type": "code",
   "execution_count": 140,
   "id": "dd7b0014",
   "metadata": {},
   "outputs": [
    {
     "data": {
      "text/plain": [
       "A    30\n",
       "B    15\n",
       "C    41\n",
       "Name: Products, dtype: int64"
      ]
     },
     "execution_count": 140,
     "metadata": {},
     "output_type": "execute_result"
    }
   ],
   "source": [
    "data = [30, 15, 41]\n",
    "\n",
    "series = pd.Series(data=data, index=[\"A\", \"B\", \"C\"], name = 'Products')\n",
    "series"
   ]
  },
  {
   "cell_type": "code",
   "execution_count": 141,
   "id": "fb3c5527",
   "metadata": {},
   "outputs": [
    {
     "data": {
      "text/plain": [
       "'Products'"
      ]
     },
     "execution_count": 141,
     "metadata": {},
     "output_type": "execute_result"
    }
   ],
   "source": [
    "series.name"
   ]
  },
  {
   "cell_type": "code",
   "execution_count": 142,
   "id": "bac45e83",
   "metadata": {},
   "outputs": [
    {
     "data": {
      "text/plain": [
       "Index(['A', 'B', 'C'], dtype='object')"
      ]
     },
     "execution_count": 142,
     "metadata": {},
     "output_type": "execute_result"
    }
   ],
   "source": [
    "series.index"
   ]
  },
  {
   "cell_type": "code",
   "execution_count": null,
   "id": "04f13bd9",
   "metadata": {},
   "outputs": [],
   "source": []
  }
 ],
 "metadata": {
  "kernelspec": {
   "display_name": "Python 3 (ipykernel)",
   "language": "python",
   "name": "python3"
  },
  "language_info": {
   "codemirror_mode": {
    "name": "ipython",
    "version": 3
   },
   "file_extension": ".py",
   "mimetype": "text/x-python",
   "name": "python",
   "nbconvert_exporter": "python",
   "pygments_lexer": "ipython3",
   "version": "3.11.5"
  }
 },
 "nbformat": 4,
 "nbformat_minor": 5
}
